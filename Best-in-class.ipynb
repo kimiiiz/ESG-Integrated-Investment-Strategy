{
 "cells": [
  {
   "cell_type": "markdown",
   "metadata": {},
   "source": [
    "# Objective\n",
    "This notebook is just an exploration on the ESG integrated strategy: Best In Class Approach. \n",
    "\n",
    "# What's ESG\n",
    "\n",
    "\"ESG\" stands for environmental, social, and (corporate) governance. ESG investors examine criteria within these three categories to identify companies that perform well using ESG-related metrics. Combining the ESG lens with more traditional stock analysis techniques is known as ESG integration. Anyone can join the swelling ranks of ESG investors by simply learning more about ESG and then using the framework to make future investing decisions.\n",
    "\n",
    "The ESG integrated strategy is on a spectrum, which start from simple exlusion, to the impact fund. Exclusion is the simplest form of ESG investing, which removes the industries that is harmful for the environment or society, for example tobacco, gambling and so on.\n",
    "\n",
    "While excluding certain industries, investors are often left with limited choice for risk diversification, which is why best in class approach comes into play. In a best in class approach we only compare the ESG risks within the same industry, and exclude the companies that are doing bad (non-proactive) in the matter of corporate responsibility, energy efficiency, and managing wastes. \n",
    "\n",
    "# Data\n",
    "Since there's no free ESG features available at the moment when I created this project, the ESG scores are scrapped from Yahoo Finance using beautiful soup. "
   ]
  },
  {
   "cell_type": "code",
   "execution_count": 1,
   "metadata": {},
   "outputs": [],
   "source": [
    "import pandas as pd\n",
    "data = pd.read_csv(r\"C:\\Users\\18143\\OneDrive\\Desktop\\esg_score_yahoo_finance_scraped.csv\")   \n",
    "data = pd.DataFrame(data)"
   ]
  },
  {
   "cell_type": "code",
   "execution_count": 2,
   "metadata": {},
   "outputs": [
    {
     "data": {
      "text/html": [
       "<div>\n",
       "<style scoped>\n",
       "    .dataframe tbody tr th:only-of-type {\n",
       "        vertical-align: middle;\n",
       "    }\n",
       "\n",
       "    .dataframe tbody tr th {\n",
       "        vertical-align: top;\n",
       "    }\n",
       "\n",
       "    .dataframe thead th {\n",
       "        text-align: right;\n",
       "    }\n",
       "</style>\n",
       "<table border=\"1\" class=\"dataframe\">\n",
       "  <thead>\n",
       "    <tr style=\"text-align: right;\">\n",
       "      <th></th>\n",
       "      <th>ticker</th>\n",
       "      <th>Sector</th>\n",
       "      <th>Market Value</th>\n",
       "      <th>Location</th>\n",
       "      <th>socialScore</th>\n",
       "      <th>governanceScore</th>\n",
       "      <th>environmentScore</th>\n",
       "      <th>totalEsg</th>\n",
       "      <th>percentile</th>\n",
       "      <th>peerSocialPerformance_min</th>\n",
       "      <th>...</th>\n",
       "      <th>peerSocialPerformance_max</th>\n",
       "      <th>peerGovernancePerformance_min</th>\n",
       "      <th>peerGovernancePerformance_avg</th>\n",
       "      <th>peerGovernancePerformance_max</th>\n",
       "      <th>peerEnvironmentPerformance_min</th>\n",
       "      <th>peerEnvironmentPerformance_avg</th>\n",
       "      <th>peerEnvironmentPerformance_max</th>\n",
       "      <th>peerEsgScorePerformance_min</th>\n",
       "      <th>peerEsgScorePerformance_avg</th>\n",
       "      <th>peerEsgScorePerformance_max</th>\n",
       "    </tr>\n",
       "  </thead>\n",
       "  <tbody>\n",
       "    <tr>\n",
       "      <th>0</th>\n",
       "      <td>AAPL</td>\n",
       "      <td>Information Technology</td>\n",
       "      <td>45249778.53</td>\n",
       "      <td>United States</td>\n",
       "      <td>7.69</td>\n",
       "      <td>8.94</td>\n",
       "      <td>0.10</td>\n",
       "      <td>16.73</td>\n",
       "      <td>11.77</td>\n",
       "      <td>2.39</td>\n",
       "      <td>...</td>\n",
       "      <td>12.20</td>\n",
       "      <td>3.72</td>\n",
       "      <td>7.539091</td>\n",
       "      <td>14.10</td>\n",
       "      <td>0.04</td>\n",
       "      <td>3.244000</td>\n",
       "      <td>10.02</td>\n",
       "      <td>7.24</td>\n",
       "      <td>17.054643</td>\n",
       "      <td>26.59</td>\n",
       "    </tr>\n",
       "    <tr>\n",
       "      <th>1</th>\n",
       "      <td>MSFT</td>\n",
       "      <td>Information Technology</td>\n",
       "      <td>35945184.42</td>\n",
       "      <td>United States</td>\n",
       "      <td>9.37</td>\n",
       "      <td>4.90</td>\n",
       "      <td>0.47</td>\n",
       "      <td>14.74</td>\n",
       "      <td>7.55</td>\n",
       "      <td>3.90</td>\n",
       "      <td>...</td>\n",
       "      <td>17.93</td>\n",
       "      <td>4.18</td>\n",
       "      <td>7.276238</td>\n",
       "      <td>33.22</td>\n",
       "      <td>0.00</td>\n",
       "      <td>0.988812</td>\n",
       "      <td>3.67</td>\n",
       "      <td>10.19</td>\n",
       "      <td>18.866019</td>\n",
       "      <td>45.00</td>\n",
       "    </tr>\n",
       "    <tr>\n",
       "      <th>2</th>\n",
       "      <td>AMZN</td>\n",
       "      <td>Consumer Discretionary</td>\n",
       "      <td>28086431.52</td>\n",
       "      <td>United States</td>\n",
       "      <td>12.52</td>\n",
       "      <td>9.78</td>\n",
       "      <td>5.13</td>\n",
       "      <td>27.42</td>\n",
       "      <td>47.67</td>\n",
       "      <td>3.85</td>\n",
       "      <td>...</td>\n",
       "      <td>12.52</td>\n",
       "      <td>2.99</td>\n",
       "      <td>5.877759</td>\n",
       "      <td>10.25</td>\n",
       "      <td>0.03</td>\n",
       "      <td>2.998621</td>\n",
       "      <td>7.06</td>\n",
       "      <td>9.60</td>\n",
       "      <td>16.511774</td>\n",
       "      <td>27.42</td>\n",
       "    </tr>\n",
       "    <tr>\n",
       "      <th>3</th>\n",
       "      <td>FB</td>\n",
       "      <td>Communication</td>\n",
       "      <td>14039542.50</td>\n",
       "      <td>United States</td>\n",
       "      <td>17.93</td>\n",
       "      <td>12.28</td>\n",
       "      <td>1.40</td>\n",
       "      <td>31.61</td>\n",
       "      <td>63.13</td>\n",
       "      <td>3.90</td>\n",
       "      <td>...</td>\n",
       "      <td>17.93</td>\n",
       "      <td>4.18</td>\n",
       "      <td>7.276238</td>\n",
       "      <td>33.22</td>\n",
       "      <td>0.00</td>\n",
       "      <td>0.988812</td>\n",
       "      <td>3.67</td>\n",
       "      <td>10.19</td>\n",
       "      <td>18.866019</td>\n",
       "      <td>45.00</td>\n",
       "    </tr>\n",
       "    <tr>\n",
       "      <th>4</th>\n",
       "      <td>GOOGL</td>\n",
       "      <td>Communication</td>\n",
       "      <td>13092946.12</td>\n",
       "      <td>United States</td>\n",
       "      <td>9.87</td>\n",
       "      <td>11.94</td>\n",
       "      <td>0.48</td>\n",
       "      <td>22.29</td>\n",
       "      <td>28.96</td>\n",
       "      <td>3.90</td>\n",
       "      <td>...</td>\n",
       "      <td>17.93</td>\n",
       "      <td>4.18</td>\n",
       "      <td>7.276238</td>\n",
       "      <td>33.22</td>\n",
       "      <td>0.00</td>\n",
       "      <td>0.988812</td>\n",
       "      <td>3.67</td>\n",
       "      <td>10.19</td>\n",
       "      <td>18.866019</td>\n",
       "      <td>45.00</td>\n",
       "    </tr>\n",
       "  </tbody>\n",
       "</table>\n",
       "<p>5 rows × 21 columns</p>\n",
       "</div>"
      ],
      "text/plain": [
       "  ticker                  Sector  Market Value       Location  socialScore  \\\n",
       "0   AAPL  Information Technology   45249778.53  United States         7.69   \n",
       "1   MSFT  Information Technology   35945184.42  United States         9.37   \n",
       "2   AMZN  Consumer Discretionary   28086431.52  United States        12.52   \n",
       "3     FB           Communication   14039542.50  United States        17.93   \n",
       "4  GOOGL           Communication   13092946.12  United States         9.87   \n",
       "\n",
       "   governanceScore  environmentScore  totalEsg  percentile  \\\n",
       "0             8.94              0.10     16.73       11.77   \n",
       "1             4.90              0.47     14.74        7.55   \n",
       "2             9.78              5.13     27.42       47.67   \n",
       "3            12.28              1.40     31.61       63.13   \n",
       "4            11.94              0.48     22.29       28.96   \n",
       "\n",
       "   peerSocialPerformance_min  ...  peerSocialPerformance_max  \\\n",
       "0                       2.39  ...                      12.20   \n",
       "1                       3.90  ...                      17.93   \n",
       "2                       3.85  ...                      12.52   \n",
       "3                       3.90  ...                      17.93   \n",
       "4                       3.90  ...                      17.93   \n",
       "\n",
       "   peerGovernancePerformance_min  peerGovernancePerformance_avg  \\\n",
       "0                           3.72                       7.539091   \n",
       "1                           4.18                       7.276238   \n",
       "2                           2.99                       5.877759   \n",
       "3                           4.18                       7.276238   \n",
       "4                           4.18                       7.276238   \n",
       "\n",
       "   peerGovernancePerformance_max  peerEnvironmentPerformance_min  \\\n",
       "0                          14.10                            0.04   \n",
       "1                          33.22                            0.00   \n",
       "2                          10.25                            0.03   \n",
       "3                          33.22                            0.00   \n",
       "4                          33.22                            0.00   \n",
       "\n",
       "   peerEnvironmentPerformance_avg  peerEnvironmentPerformance_max  \\\n",
       "0                        3.244000                           10.02   \n",
       "1                        0.988812                            3.67   \n",
       "2                        2.998621                            7.06   \n",
       "3                        0.988812                            3.67   \n",
       "4                        0.988812                            3.67   \n",
       "\n",
       "   peerEsgScorePerformance_min  peerEsgScorePerformance_avg  \\\n",
       "0                         7.24                    17.054643   \n",
       "1                        10.19                    18.866019   \n",
       "2                         9.60                    16.511774   \n",
       "3                        10.19                    18.866019   \n",
       "4                        10.19                    18.866019   \n",
       "\n",
       "   peerEsgScorePerformance_max  \n",
       "0                        26.59  \n",
       "1                        45.00  \n",
       "2                        27.42  \n",
       "3                        45.00  \n",
       "4                        45.00  \n",
       "\n",
       "[5 rows x 21 columns]"
      ]
     },
     "execution_count": 2,
     "metadata": {},
     "output_type": "execute_result"
    }
   ],
   "source": [
    "data.head()"
   ]
  },
  {
   "cell_type": "code",
   "execution_count": 3,
   "metadata": {},
   "outputs": [
    {
     "name": "stdout",
     "output_type": "stream",
     "text": [
      "<class 'pandas.core.frame.DataFrame'>\n",
      "RangeIndex: 527 entries, 0 to 526\n",
      "Data columns (total 21 columns):\n",
      " #   Column                          Non-Null Count  Dtype  \n",
      "---  ------                          --------------  -----  \n",
      " 0   ticker                          527 non-null    object \n",
      " 1   Sector                          527 non-null    object \n",
      " 2   Market Value                    527 non-null    float64\n",
      " 3   Location                        527 non-null    object \n",
      " 4   socialScore                     527 non-null    float64\n",
      " 5   governanceScore                 527 non-null    float64\n",
      " 6   environmentScore                527 non-null    float64\n",
      " 7   totalEsg                        527 non-null    float64\n",
      " 8   percentile                      527 non-null    float64\n",
      " 9   peerSocialPerformance_min       527 non-null    float64\n",
      " 10  peerSocialPerformance_avg       527 non-null    float64\n",
      " 11  peerSocialPerformance_max       527 non-null    float64\n",
      " 12  peerGovernancePerformance_min   527 non-null    float64\n",
      " 13  peerGovernancePerformance_avg   527 non-null    float64\n",
      " 14  peerGovernancePerformance_max   527 non-null    float64\n",
      " 15  peerEnvironmentPerformance_min  527 non-null    float64\n",
      " 16  peerEnvironmentPerformance_avg  527 non-null    float64\n",
      " 17  peerEnvironmentPerformance_max  527 non-null    float64\n",
      " 18  peerEsgScorePerformance_min     527 non-null    float64\n",
      " 19  peerEsgScorePerformance_avg     527 non-null    float64\n",
      " 20  peerEsgScorePerformance_max     527 non-null    float64\n",
      "dtypes: float64(18), object(3)\n",
      "memory usage: 86.6+ KB\n"
     ]
    }
   ],
   "source": [
    "data.info()"
   ]
  },
  {
   "cell_type": "markdown",
   "metadata": {},
   "source": [
    "For each stock, we have a general ESG score, and seperate E S G score for each sector, the min max and average for companies in the same segment. Now a good thing to do is to think about how to transform everything into something more usable. With this in mind, let's do some EDA to gain some insights."
   ]
  },
  {
   "cell_type": "code",
   "execution_count": 4,
   "metadata": {},
   "outputs": [],
   "source": [
    "sector = data.groupby(\"Sector\")['ticker'].count()"
   ]
  },
  {
   "cell_type": "code",
   "execution_count": 5,
   "metadata": {},
   "outputs": [
    {
     "data": {
      "image/png": "[encoded data removed]",
      "text/plain": [
       "<Figure size 720x432 with 1 Axes>"
      ]
     },
     "metadata": {},
     "output_type": "display_data"
    }
   ],
   "source": [
    "import matplotlib.pyplot as plt\n",
    "import seaborn as sns\n",
    "%matplotlib inline\n",
    "pie, ax = plt.subplots(figsize=[10,6])\n",
    "labels = sector.keys()\n",
    "plt.pie(x=sector, autopct=\"%.1f%%\", explode=[0.05]*len(sector), labels=labels, pctdistance=0.5)\n",
    "plt.title(\"Companies by sector\", fontsize=14);"
   ]
  },
  {
   "cell_type": "markdown",
   "metadata": {},
   "source": [
    "We can see that Financials, Information Technology, and Healthcare are the majority of our scrapped dataset."
   ]
  },
  {
   "cell_type": "code",
   "execution_count": 6,
   "metadata": {},
   "outputs": [
    {
     "data": {
      "text/plain": [
       "<AxesSubplot:title={'center':'# of companies by location'}, xlabel='Location', ylabel='# of companies'>"
      ]
     },
     "execution_count": 6,
     "metadata": {},
     "output_type": "execute_result"
    },
    {
     "data": {
      "image/png": "[encoded data removed]",
      "text/plain": [
       "<Figure size 432x288 with 1 Axes>"
      ]
     },
     "metadata": {
      "needs_background": "light"
     },
     "output_type": "display_data"
    }
   ],
   "source": [
    "market_val = data.groupby(\"Location\")['ticker'].count()\n",
    "fig = plt.figure()\n",
    "ax1 = fig.add_subplot(1,1,1)\n",
    "ax1.set_xlabel('Location')\n",
    "ax1.set_ylabel('# of companies')\n",
    "ax1.set_title(\"# of companies by location\")\n",
    "market_val.plot(kind='bar')"
   ]
  },
  {
   "cell_type": "markdown",
   "metadata": {},
   "source": [
    "This result is within the expectation, there's more US company with ESG data, our data is pretty skewed to all american companies, which isn't necessarily a bad thing. Because we no longer need to worry about the **systematic discrimination** by the ESG metrics posed on different countries.\n",
    "\n",
    "If we use the same standards on developed country and undeveloped country, the developed countries probably would perform better just because the more comprehensive regulation framework. Penalize companies from undeveloped countries on the ESG performance seems a bit unfair."
   ]
  },
  {
   "cell_type": "code",
   "execution_count": 7,
   "metadata": {},
   "outputs": [
    {
     "data": {
      "text/plain": [
       "<AxesSubplot:title={'center':'Average ESG score by sectors'}, xlabel='Sector', ylabel='Average ESG score'>"
      ]
     },
     "execution_count": 7,
     "metadata": {},
     "output_type": "execute_result"
    },
    {
     "data": {
      "image/png": "[encoded data removed]",
      "text/plain": [
       "<Figure size 432x288 with 1 Axes>"
      ]
     },
     "metadata": {
      "needs_background": "light"
     },
     "output_type": "display_data"
    }
   ],
   "source": [
    "avg_esg = data.groupby(\"Sector\")['totalEsg'].mean()\n",
    "fig = plt.figure()\n",
    "ax1 = fig.add_subplot(1,1,1)\n",
    "ax1.set_xlabel('Sector')\n",
    "ax1.set_ylabel('Average ESG score')\n",
    "ax1.set_title(\"Average ESG score by sectors\")\n",
    "avg_esg.plot(kind='bar', cmap='RdYlBu')"
   ]
  },
  {
   "cell_type": "markdown",
   "metadata": {},
   "source": [
    "A bit more on the ESG score here:\n",
    "\n",
    "The ESG risk score scrapped from Yahoo Finance is the risk score. The ESG risk rating score is based on the unmanaged risk on an absolute range from 0 - 100. A lower ESG score here indicates less unmanaged issues on Environmental, Social, and Governance. Notice that this is different from the other type of popular ESG measure, the ESG exposure score, where a higher score indicates more transparent and better managed ESG related risks. \n",
    "\n",
    "Take away: \n",
    "1. Energy Sector and Utilities Sector have higher ESG risk scores, which is reasonable. Energy and Utility sectors are usually what fund managers avoid if they simply deploy the 'exclusion' strategy. However, this might be the environment factor and the ESG risk score could potentially discriminate Enegry Companies if they're held to the same standard compared to other industry.\n",
    "\n",
    "2. Real Estate and Information Technology sectors has lowest average ESG risk scores. That is, if we look at the total ESG score. In recent years, we keep learning more about the data privacy issues from information technology companies. This could be more prominent in the 'Social' or 'Governance' side. \n",
    "\n",
    "Only using total ESG risk score is not enough, next I want to break it into seperate sectors."
   ]
  },
  {
   "cell_type": "code",
   "execution_count": 8,
   "metadata": {},
   "outputs": [
    {
     "data": {
      "text/plain": [
       "<matplotlib.legend.Legend at 0x1bec6ca0c70>"
      ]
     },
     "execution_count": 8,
     "metadata": {},
     "output_type": "execute_result"
    },
    {
     "data": {
      "image/png": "[encoded data removed]",
      "text/plain": [
       "<Figure size 864x576 with 1 Axes>"
      ]
     },
     "metadata": {
      "needs_background": "light"
     },
     "output_type": "display_data"
    }
   ],
   "source": [
    "import numpy as np\n",
    "e = data.groupby(\"Sector\")['environmentScore'].mean()\n",
    "s = data.groupby(\"Sector\")['socialScore'].mean()\n",
    "g = data.groupby(\"Sector\")['governanceScore'].mean()\n",
    "\n",
    "e_sd = data.groupby(\"Sector\")['environmentScore'].std()\n",
    "s_sd = data.groupby(\"Sector\")['socialScore'].std()\n",
    "g_sd = data.groupby(\"Sector\")['governanceScore'].std()\n",
    "ind = np.arange(len(sector))  # the x locations for the groups\n",
    "width = 0.25  # the width of the bars\n",
    "\n",
    "fig, ax = plt.subplots(figsize=[12,8])\n",
    "rects1 = ax.bar(ind + 0, e, width,\n",
    "                label='Environmental')\n",
    "rects2 = ax.bar(ind + 0.3, s, width,\n",
    "                label='Social')\n",
    "rects3 = ax.bar(ind + 0.6, g, width,\n",
    "                label='Governance')\n",
    "\n",
    "# Add some text for labels, title and custom x-axis tick labels, etc.\n",
    "ax.set_ylabel('ESG Sector Scores')\n",
    "ax.set_title('Scores by sectors and E S G')\n",
    "ax.set_xticks(ind)\n",
    "ax.set_xticklabels(sector.keys(),rotation = 60,fontsize=14)\n",
    "ax.legend()"
   ]
  },
  {
   "cell_type": "markdown",
   "metadata": {},
   "source": [
    "As we can see from the sector ESG risk score, although Engergy and Information Technology has high environmental risks, but health care and industrial industries have higher Social risks, whereas Financial industry has highest governance risk.\n",
    "\n",
    "From the analysis above, we learnt that different sectors and industries have different standards on ESG, for the following sector, we will analyze ESG features within each sector.\n",
    "\n",
    "# ESG risk for IT sector\n",
    "Information Technology has been the golden goose for many ESG ETFs, for its high growth rate and the low ESG risk. Let's first look at Information Technology Sector. "
   ]
  },
  {
   "cell_type": "code",
   "execution_count": 9,
   "metadata": {},
   "outputs": [],
   "source": [
    "IT = data.loc[data['Sector'] == 'Information Technology']\n",
    "IT = IT.set_index(['ticker'])"
   ]
  },
  {
   "cell_type": "code",
   "execution_count": 10,
   "metadata": {},
   "outputs": [
    {
     "data": {
      "text/plain": [
       "ticker\n",
       "AAPL    26.59\n",
       "MSFT    45.00\n",
       "V       45.00\n",
       "MA      45.00\n",
       "NVDA    34.05\n",
       "Name: peerEsgScorePerformance_max, dtype: float64"
      ]
     },
     "execution_count": 10,
     "metadata": {},
     "output_type": "execute_result"
    }
   ],
   "source": [
    "IT['peerEsgScorePerformance_max'].head()"
   ]
  },
  {
   "cell_type": "markdown",
   "metadata": {},
   "source": [
    "If we have a look at the peer ESG max score, we can see that even within the IT sector, there're different peer groups. From the snapshot above, we see that Apple, Microsoft, and Nvidia belongs to three different peer groups. \n",
    "\n",
    "For now, it's probably divided in software, hardware, but we will need more investigation on this.\n",
    "Next, I will find out how many peer groups are present within the IT sector."
   ]
  },
  {
   "cell_type": "code",
   "execution_count": 11,
   "metadata": {},
   "outputs": [
    {
     "data": {
      "text/plain": [
       "peerSocialPerformance_max         4\n",
       "peerGovernancePerformance_max     4\n",
       "peerEnvironmentPerformance_max    4\n",
       "peerEsgScorePerformance_max       4\n",
       "dtype: int64"
      ]
     },
     "execution_count": 11,
     "metadata": {},
     "output_type": "execute_result"
    }
   ],
   "source": [
    "IT[['peerSocialPerformance_max','peerGovernancePerformance_max','peerEnvironmentPerformance_max','peerEsgScorePerformance_max']].nunique(axis=0)"
   ]
  },
  {
   "cell_type": "markdown",
   "metadata": {},
   "source": [
    "It seems like there are 4 peer groups or subgroups, maybe we need to divide IT sector into smaller subsections. But first, let's check out what are the composition for each subgroup and if there's any useful info."
   ]
  },
  {
   "cell_type": "code",
   "execution_count": 12,
   "metadata": {},
   "outputs": [
    {
     "data": {
      "text/plain": [
       "dict_keys([26.59, 28.01, 34.05, 45.0])"
      ]
     },
     "execution_count": 12,
     "metadata": {},
     "output_type": "execute_result"
    }
   ],
   "source": [
    "g = IT.groupby('peerEsgScorePerformance_max')\n",
    "g.groups.keys()"
   ]
  },
  {
   "cell_type": "code",
   "execution_count": 13,
   "metadata": {},
   "outputs": [
    {
     "data": {
      "text/html": [
       "<div>\n",
       "<style scoped>\n",
       "    .dataframe tbody tr th:only-of-type {\n",
       "        vertical-align: middle;\n",
       "    }\n",
       "\n",
       "    .dataframe tbody tr th {\n",
       "        vertical-align: top;\n",
       "    }\n",
       "\n",
       "    .dataframe thead th {\n",
       "        text-align: right;\n",
       "    }\n",
       "</style>\n",
       "<table border=\"1\" class=\"dataframe\">\n",
       "  <thead>\n",
       "    <tr style=\"text-align: right;\">\n",
       "      <th></th>\n",
       "      <th>socialScore</th>\n",
       "      <th>governanceScore</th>\n",
       "      <th>environmentScore</th>\n",
       "      <th>totalEsg</th>\n",
       "    </tr>\n",
       "    <tr>\n",
       "      <th>ticker</th>\n",
       "      <th></th>\n",
       "      <th></th>\n",
       "      <th></th>\n",
       "      <th></th>\n",
       "    </tr>\n",
       "  </thead>\n",
       "  <tbody>\n",
       "    <tr>\n",
       "      <th>AAPL</th>\n",
       "      <td>7.69</td>\n",
       "      <td>8.94</td>\n",
       "      <td>0.10</td>\n",
       "      <td>16.73</td>\n",
       "    </tr>\n",
       "    <tr>\n",
       "      <th>CSCO</th>\n",
       "      <td>5.94</td>\n",
       "      <td>6.08</td>\n",
       "      <td>0.54</td>\n",
       "      <td>12.55</td>\n",
       "    </tr>\n",
       "    <tr>\n",
       "      <th>HPQ</th>\n",
       "      <td>4.95</td>\n",
       "      <td>5.50</td>\n",
       "      <td>0.18</td>\n",
       "      <td>10.63</td>\n",
       "    </tr>\n",
       "    <tr>\n",
       "      <th>TEL</th>\n",
       "      <td>4.53</td>\n",
       "      <td>5.01</td>\n",
       "      <td>6.74</td>\n",
       "      <td>16.28</td>\n",
       "    </tr>\n",
       "    <tr>\n",
       "      <th>APH</th>\n",
       "      <td>6.02</td>\n",
       "      <td>7.70</td>\n",
       "      <td>10.02</td>\n",
       "      <td>23.74</td>\n",
       "    </tr>\n",
       "    <tr>\n",
       "      <th>MSI</th>\n",
       "      <td>7.18</td>\n",
       "      <td>5.30</td>\n",
       "      <td>1.97</td>\n",
       "      <td>14.43</td>\n",
       "    </tr>\n",
       "    <tr>\n",
       "      <th>GLW</th>\n",
       "      <td>5.20</td>\n",
       "      <td>6.89</td>\n",
       "      <td>7.91</td>\n",
       "      <td>20.00</td>\n",
       "    </tr>\n",
       "    <tr>\n",
       "      <th>KEYS</th>\n",
       "      <td>2.39</td>\n",
       "      <td>5.26</td>\n",
       "      <td>1.85</td>\n",
       "      <td>9.50</td>\n",
       "    </tr>\n",
       "    <tr>\n",
       "      <th>TRMB</th>\n",
       "      <td>3.82</td>\n",
       "      <td>5.32</td>\n",
       "      <td>3.74</td>\n",
       "      <td>12.89</td>\n",
       "    </tr>\n",
       "    <tr>\n",
       "      <th>CDW</th>\n",
       "      <td>3.45</td>\n",
       "      <td>3.76</td>\n",
       "      <td>3.62</td>\n",
       "      <td>10.84</td>\n",
       "    </tr>\n",
       "    <tr>\n",
       "      <th>DELL</th>\n",
       "      <td>8.40</td>\n",
       "      <td>7.29</td>\n",
       "      <td>0.38</td>\n",
       "      <td>16.06</td>\n",
       "    </tr>\n",
       "    <tr>\n",
       "      <th>WDC</th>\n",
       "      <td>4.24</td>\n",
       "      <td>5.60</td>\n",
       "      <td>2.24</td>\n",
       "      <td>12.09</td>\n",
       "    </tr>\n",
       "    <tr>\n",
       "      <th>STX</th>\n",
       "      <td>3.80</td>\n",
       "      <td>5.07</td>\n",
       "      <td>1.59</td>\n",
       "      <td>10.46</td>\n",
       "    </tr>\n",
       "    <tr>\n",
       "      <th>NTAP</th>\n",
       "      <td>7.59</td>\n",
       "      <td>6.18</td>\n",
       "      <td>2.67</td>\n",
       "      <td>16.44</td>\n",
       "    </tr>\n",
       "    <tr>\n",
       "      <th>HPE</th>\n",
       "      <td>9.93</td>\n",
       "      <td>6.72</td>\n",
       "      <td>0.69</td>\n",
       "      <td>17.34</td>\n",
       "    </tr>\n",
       "    <tr>\n",
       "      <th>ANET</th>\n",
       "      <td>9.06</td>\n",
       "      <td>8.16</td>\n",
       "      <td>0.40</td>\n",
       "      <td>17.62</td>\n",
       "    </tr>\n",
       "    <tr>\n",
       "      <th>ARW</th>\n",
       "      <td>3.02</td>\n",
       "      <td>4.28</td>\n",
       "      <td>2.92</td>\n",
       "      <td>10.23</td>\n",
       "    </tr>\n",
       "    <tr>\n",
       "      <th>TEL</th>\n",
       "      <td>4.53</td>\n",
       "      <td>5.01</td>\n",
       "      <td>6.74</td>\n",
       "      <td>16.28</td>\n",
       "    </tr>\n",
       "    <tr>\n",
       "      <th>JNPR</th>\n",
       "      <td>9.27</td>\n",
       "      <td>6.40</td>\n",
       "      <td>0.38</td>\n",
       "      <td>16.05</td>\n",
       "    </tr>\n",
       "    <tr>\n",
       "      <th>IPGP</th>\n",
       "      <td>4.08</td>\n",
       "      <td>5.97</td>\n",
       "      <td>3.43</td>\n",
       "      <td>13.48</td>\n",
       "    </tr>\n",
       "  </tbody>\n",
       "</table>\n",
       "</div>"
      ],
      "text/plain": [
       "        socialScore  governanceScore  environmentScore  totalEsg\n",
       "ticker                                                          \n",
       "AAPL           7.69             8.94              0.10     16.73\n",
       "CSCO           5.94             6.08              0.54     12.55\n",
       "HPQ            4.95             5.50              0.18     10.63\n",
       "TEL            4.53             5.01              6.74     16.28\n",
       "APH            6.02             7.70             10.02     23.74\n",
       "MSI            7.18             5.30              1.97     14.43\n",
       "GLW            5.20             6.89              7.91     20.00\n",
       "KEYS           2.39             5.26              1.85      9.50\n",
       "TRMB           3.82             5.32              3.74     12.89\n",
       "CDW            3.45             3.76              3.62     10.84\n",
       "DELL           8.40             7.29              0.38     16.06\n",
       "WDC            4.24             5.60              2.24     12.09\n",
       "STX            3.80             5.07              1.59     10.46\n",
       "NTAP           7.59             6.18              2.67     16.44\n",
       "HPE            9.93             6.72              0.69     17.34\n",
       "ANET           9.06             8.16              0.40     17.62\n",
       "ARW            3.02             4.28              2.92     10.23\n",
       "TEL            4.53             5.01              6.74     16.28\n",
       "JNPR           9.27             6.40              0.38     16.05\n",
       "IPGP           4.08             5.97              3.43     13.48"
      ]
     },
     "execution_count": 13,
     "metadata": {},
     "output_type": "execute_result"
    }
   ],
   "source": [
    "IT_gp1 = IT.loc[IT['peerEsgScorePerformance_max'] == 26.59].iloc[:,3:7]\n",
    "IT_gp1"
   ]
  },
  {
   "cell_type": "markdown",
   "metadata": {},
   "source": [
    "Through observation, the total ESG risk score is just the sum of sector ESG scores. In reality, this probably couldn't reflect the cross-enhancement effect. \n",
    "\n",
    "For example, if a company has high social risk with controversal employee and contractor relationship, it doesn't matter how environmental friendly that company is. With this in mind, I created quadratic and cubic terms using the product of the three sector risks. \n"
   ]
  },
  {
   "cell_type": "code",
   "execution_count": 14,
   "metadata": {},
   "outputs": [],
   "source": [
    "IT_gp1['E*S*G'] = IT_gp1['socialScore'] + IT_gp1['governanceScore'] +IT_gp1['environmentScore']"
   ]
  },
  {
   "cell_type": "code",
   "execution_count": 15,
   "metadata": {},
   "outputs": [],
   "source": [
    "from sklearn.preprocessing import MinMaxScaler\n",
    "scaler = MinMaxScaler()\n",
    "IT_gp1 = pd.DataFrame(scaler.fit_transform(IT_gp1),columns = IT_gp1.columns,index = IT_gp1.index)"
   ]
  },
  {
   "cell_type": "code",
   "execution_count": 16,
   "metadata": {},
   "outputs": [
    {
     "data": {
      "text/html": [
       "<div>\n",
       "<style scoped>\n",
       "    .dataframe tbody tr th:only-of-type {\n",
       "        vertical-align: middle;\n",
       "    }\n",
       "\n",
       "    .dataframe tbody tr th {\n",
       "        vertical-align: top;\n",
       "    }\n",
       "\n",
       "    .dataframe thead th {\n",
       "        text-align: right;\n",
       "    }\n",
       "</style>\n",
       "<table border=\"1\" class=\"dataframe\">\n",
       "  <thead>\n",
       "    <tr style=\"text-align: right;\">\n",
       "      <th></th>\n",
       "      <th>socialScore</th>\n",
       "      <th>governanceScore</th>\n",
       "      <th>environmentScore</th>\n",
       "      <th>totalEsg</th>\n",
       "      <th>E*S*G</th>\n",
       "    </tr>\n",
       "    <tr>\n",
       "      <th>ticker</th>\n",
       "      <th></th>\n",
       "      <th></th>\n",
       "      <th></th>\n",
       "      <th></th>\n",
       "      <th></th>\n",
       "    </tr>\n",
       "  </thead>\n",
       "  <tbody>\n",
       "    <tr>\n",
       "      <th>AAPL</th>\n",
       "      <td>0.702918</td>\n",
       "      <td>1.000000</td>\n",
       "      <td>0.000000</td>\n",
       "      <td>0.507725</td>\n",
       "      <td>0.507725</td>\n",
       "    </tr>\n",
       "    <tr>\n",
       "      <th>CSCO</th>\n",
       "      <td>0.470822</td>\n",
       "      <td>0.447876</td>\n",
       "      <td>0.044355</td>\n",
       "      <td>0.214185</td>\n",
       "      <td>0.214888</td>\n",
       "    </tr>\n",
       "    <tr>\n",
       "      <th>HPQ</th>\n",
       "      <td>0.339523</td>\n",
       "      <td>0.335907</td>\n",
       "      <td>0.008065</td>\n",
       "      <td>0.079354</td>\n",
       "      <td>0.079354</td>\n",
       "    </tr>\n",
       "    <tr>\n",
       "      <th>TEL</th>\n",
       "      <td>0.283820</td>\n",
       "      <td>0.241313</td>\n",
       "      <td>0.669355</td>\n",
       "      <td>0.476124</td>\n",
       "      <td>0.476124</td>\n",
       "    </tr>\n",
       "    <tr>\n",
       "      <th>APH</th>\n",
       "      <td>0.481432</td>\n",
       "      <td>0.760618</td>\n",
       "      <td>1.000000</td>\n",
       "      <td>1.000000</td>\n",
       "      <td>1.000000</td>\n",
       "    </tr>\n",
       "    <tr>\n",
       "      <th>MSI</th>\n",
       "      <td>0.635279</td>\n",
       "      <td>0.297297</td>\n",
       "      <td>0.188508</td>\n",
       "      <td>0.346208</td>\n",
       "      <td>0.347612</td>\n",
       "    </tr>\n",
       "    <tr>\n",
       "      <th>GLW</th>\n",
       "      <td>0.372679</td>\n",
       "      <td>0.604247</td>\n",
       "      <td>0.787298</td>\n",
       "      <td>0.737360</td>\n",
       "      <td>0.737360</td>\n",
       "    </tr>\n",
       "    <tr>\n",
       "      <th>KEYS</th>\n",
       "      <td>0.000000</td>\n",
       "      <td>0.289575</td>\n",
       "      <td>0.176411</td>\n",
       "      <td>0.000000</td>\n",
       "      <td>0.000000</td>\n",
       "    </tr>\n",
       "    <tr>\n",
       "      <th>TRMB</th>\n",
       "      <td>0.189655</td>\n",
       "      <td>0.301158</td>\n",
       "      <td>0.366935</td>\n",
       "      <td>0.238062</td>\n",
       "      <td>0.237360</td>\n",
       "    </tr>\n",
       "    <tr>\n",
       "      <th>CDW</th>\n",
       "      <td>0.140584</td>\n",
       "      <td>0.000000</td>\n",
       "      <td>0.354839</td>\n",
       "      <td>0.094101</td>\n",
       "      <td>0.093399</td>\n",
       "    </tr>\n",
       "    <tr>\n",
       "      <th>DELL</th>\n",
       "      <td>0.797082</td>\n",
       "      <td>0.681467</td>\n",
       "      <td>0.028226</td>\n",
       "      <td>0.460674</td>\n",
       "      <td>0.461376</td>\n",
       "    </tr>\n",
       "    <tr>\n",
       "      <th>WDC</th>\n",
       "      <td>0.245358</td>\n",
       "      <td>0.355212</td>\n",
       "      <td>0.215726</td>\n",
       "      <td>0.181882</td>\n",
       "      <td>0.181180</td>\n",
       "    </tr>\n",
       "    <tr>\n",
       "      <th>STX</th>\n",
       "      <td>0.187003</td>\n",
       "      <td>0.252896</td>\n",
       "      <td>0.150202</td>\n",
       "      <td>0.067416</td>\n",
       "      <td>0.067416</td>\n",
       "    </tr>\n",
       "    <tr>\n",
       "      <th>NTAP</th>\n",
       "      <td>0.689655</td>\n",
       "      <td>0.467181</td>\n",
       "      <td>0.259073</td>\n",
       "      <td>0.487360</td>\n",
       "      <td>0.487360</td>\n",
       "    </tr>\n",
       "    <tr>\n",
       "      <th>HPE</th>\n",
       "      <td>1.000000</td>\n",
       "      <td>0.571429</td>\n",
       "      <td>0.059476</td>\n",
       "      <td>0.550562</td>\n",
       "      <td>0.550562</td>\n",
       "    </tr>\n",
       "    <tr>\n",
       "      <th>ANET</th>\n",
       "      <td>0.884615</td>\n",
       "      <td>0.849421</td>\n",
       "      <td>0.030242</td>\n",
       "      <td>0.570225</td>\n",
       "      <td>0.570225</td>\n",
       "    </tr>\n",
       "    <tr>\n",
       "      <th>ARW</th>\n",
       "      <td>0.083554</td>\n",
       "      <td>0.100386</td>\n",
       "      <td>0.284274</td>\n",
       "      <td>0.051264</td>\n",
       "      <td>0.050562</td>\n",
       "    </tr>\n",
       "    <tr>\n",
       "      <th>TEL</th>\n",
       "      <td>0.283820</td>\n",
       "      <td>0.241313</td>\n",
       "      <td>0.669355</td>\n",
       "      <td>0.476124</td>\n",
       "      <td>0.476124</td>\n",
       "    </tr>\n",
       "    <tr>\n",
       "      <th>JNPR</th>\n",
       "      <td>0.912467</td>\n",
       "      <td>0.509653</td>\n",
       "      <td>0.028226</td>\n",
       "      <td>0.459972</td>\n",
       "      <td>0.459972</td>\n",
       "    </tr>\n",
       "    <tr>\n",
       "      <th>IPGP</th>\n",
       "      <td>0.224138</td>\n",
       "      <td>0.426641</td>\n",
       "      <td>0.335685</td>\n",
       "      <td>0.279494</td>\n",
       "      <td>0.279494</td>\n",
       "    </tr>\n",
       "  </tbody>\n",
       "</table>\n",
       "</div>"
      ],
      "text/plain": [
       "        socialScore  governanceScore  environmentScore  totalEsg     E*S*G\n",
       "ticker                                                                    \n",
       "AAPL       0.702918         1.000000          0.000000  0.507725  0.507725\n",
       "CSCO       0.470822         0.447876          0.044355  0.214185  0.214888\n",
       "HPQ        0.339523         0.335907          0.008065  0.079354  0.079354\n",
       "TEL        0.283820         0.241313          0.669355  0.476124  0.476124\n",
       "APH        0.481432         0.760618          1.000000  1.000000  1.000000\n",
       "MSI        0.635279         0.297297          0.188508  0.346208  0.347612\n",
       "GLW        0.372679         0.604247          0.787298  0.737360  0.737360\n",
       "KEYS       0.000000         0.289575          0.176411  0.000000  0.000000\n",
       "TRMB       0.189655         0.301158          0.366935  0.238062  0.237360\n",
       "CDW        0.140584         0.000000          0.354839  0.094101  0.093399\n",
       "DELL       0.797082         0.681467          0.028226  0.460674  0.461376\n",
       "WDC        0.245358         0.355212          0.215726  0.181882  0.181180\n",
       "STX        0.187003         0.252896          0.150202  0.067416  0.067416\n",
       "NTAP       0.689655         0.467181          0.259073  0.487360  0.487360\n",
       "HPE        1.000000         0.571429          0.059476  0.550562  0.550562\n",
       "ANET       0.884615         0.849421          0.030242  0.570225  0.570225\n",
       "ARW        0.083554         0.100386          0.284274  0.051264  0.050562\n",
       "TEL        0.283820         0.241313          0.669355  0.476124  0.476124\n",
       "JNPR       0.912467         0.509653          0.028226  0.459972  0.459972\n",
       "IPGP       0.224138         0.426641          0.335685  0.279494  0.279494"
      ]
     },
     "execution_count": 16,
     "metadata": {},
     "output_type": "execute_result"
    }
   ],
   "source": [
    "IT_gp1"
   ]
  },
  {
   "cell_type": "markdown",
   "metadata": {},
   "source": [
    "Next, we save the company tickers for companies which have ESG risk and seperate social, governance, and environmental risk in the 70% percentile and drop the companies that doesn't fit in this critera."
   ]
  },
  {
   "cell_type": "code",
   "execution_count": 17,
   "metadata": {},
   "outputs": [
    {
     "data": {
      "text/html": [
       "<div>\n",
       "<style scoped>\n",
       "    .dataframe tbody tr th:only-of-type {\n",
       "        vertical-align: middle;\n",
       "    }\n",
       "\n",
       "    .dataframe tbody tr th {\n",
       "        vertical-align: top;\n",
       "    }\n",
       "\n",
       "    .dataframe thead th {\n",
       "        text-align: right;\n",
       "    }\n",
       "</style>\n",
       "<table border=\"1\" class=\"dataframe\">\n",
       "  <thead>\n",
       "    <tr style=\"text-align: right;\">\n",
       "      <th></th>\n",
       "      <th>socialScore</th>\n",
       "      <th>governanceScore</th>\n",
       "      <th>environmentScore</th>\n",
       "      <th>totalEsg</th>\n",
       "      <th>E*S*G</th>\n",
       "    </tr>\n",
       "    <tr>\n",
       "      <th>ticker</th>\n",
       "      <th></th>\n",
       "      <th></th>\n",
       "      <th></th>\n",
       "      <th></th>\n",
       "      <th></th>\n",
       "    </tr>\n",
       "  </thead>\n",
       "  <tbody>\n",
       "    <tr>\n",
       "      <th>CSCO</th>\n",
       "      <td>0.470822</td>\n",
       "      <td>0.447876</td>\n",
       "      <td>0.044355</td>\n",
       "      <td>0.214185</td>\n",
       "      <td>0.214888</td>\n",
       "    </tr>\n",
       "    <tr>\n",
       "      <th>HPQ</th>\n",
       "      <td>0.339523</td>\n",
       "      <td>0.335907</td>\n",
       "      <td>0.008065</td>\n",
       "      <td>0.079354</td>\n",
       "      <td>0.079354</td>\n",
       "    </tr>\n",
       "    <tr>\n",
       "      <th>MSI</th>\n",
       "      <td>0.635279</td>\n",
       "      <td>0.297297</td>\n",
       "      <td>0.188508</td>\n",
       "      <td>0.346208</td>\n",
       "      <td>0.347612</td>\n",
       "    </tr>\n",
       "    <tr>\n",
       "      <th>KEYS</th>\n",
       "      <td>0.000000</td>\n",
       "      <td>0.289575</td>\n",
       "      <td>0.176411</td>\n",
       "      <td>0.000000</td>\n",
       "      <td>0.000000</td>\n",
       "    </tr>\n",
       "    <tr>\n",
       "      <th>WDC</th>\n",
       "      <td>0.245358</td>\n",
       "      <td>0.355212</td>\n",
       "      <td>0.215726</td>\n",
       "      <td>0.181882</td>\n",
       "      <td>0.181180</td>\n",
       "    </tr>\n",
       "    <tr>\n",
       "      <th>STX</th>\n",
       "      <td>0.187003</td>\n",
       "      <td>0.252896</td>\n",
       "      <td>0.150202</td>\n",
       "      <td>0.067416</td>\n",
       "      <td>0.067416</td>\n",
       "    </tr>\n",
       "    <tr>\n",
       "      <th>ARW</th>\n",
       "      <td>0.083554</td>\n",
       "      <td>0.100386</td>\n",
       "      <td>0.284274</td>\n",
       "      <td>0.051264</td>\n",
       "      <td>0.050562</td>\n",
       "    </tr>\n",
       "    <tr>\n",
       "      <th>IPGP</th>\n",
       "      <td>0.224138</td>\n",
       "      <td>0.426641</td>\n",
       "      <td>0.335685</td>\n",
       "      <td>0.279494</td>\n",
       "      <td>0.279494</td>\n",
       "    </tr>\n",
       "  </tbody>\n",
       "</table>\n",
       "</div>"
      ],
      "text/plain": [
       "        socialScore  governanceScore  environmentScore  totalEsg     E*S*G\n",
       "ticker                                                                    \n",
       "CSCO       0.470822         0.447876          0.044355  0.214185  0.214888\n",
       "HPQ        0.339523         0.335907          0.008065  0.079354  0.079354\n",
       "MSI        0.635279         0.297297          0.188508  0.346208  0.347612\n",
       "KEYS       0.000000         0.289575          0.176411  0.000000  0.000000\n",
       "WDC        0.245358         0.355212          0.215726  0.181882  0.181180\n",
       "STX        0.187003         0.252896          0.150202  0.067416  0.067416\n",
       "ARW        0.083554         0.100386          0.284274  0.051264  0.050562\n",
       "IPGP       0.224138         0.426641          0.335685  0.279494  0.279494"
      ]
     },
     "execution_count": 17,
     "metadata": {},
     "output_type": "execute_result"
    }
   ],
   "source": [
    "IT_gp1=IT_gp1[IT_gp1 < IT_gp1.quantile(.70)].dropna()"
   ]
  },
  {
   "cell_type": "code",
   "execution_count": 18,
   "metadata": {},
   "outputs": [],
   "source": [
    "IT_gp1_tick = IT_gp1.index.to_list()"
   ]
  },
  {
   "cell_type": "code",
   "execution_count": 19,
   "metadata": {},
   "outputs": [],
   "source": [
    "IT_gp2 = IT.loc[IT['peerEsgScorePerformance_max'] == 28.01].iloc[:,3:7]"
   ]
  },
  {
   "cell_type": "code",
   "execution_count": 20,
   "metadata": {},
   "outputs": [],
   "source": [
    "IT_gp2_tick = IT_gp2.index.to_list()"
   ]
  },
  {
   "cell_type": "markdown",
   "metadata": {},
   "source": [
    "Surprisingly, this subgroup only had one company with ticker IT. Gatner, Inc, with ticker IT is a  is a global research and advisory firm providing information, advice, and tools for leaders in IT, finance, HR, customer service and support, \n",
    "communications, legal and compliance, marketing, sales, and supply chain functions. Since there's only one company in this subgroup, it doesn't make sense to keep dropping."
   ]
  },
  {
   "cell_type": "code",
   "execution_count": 25,
   "metadata": {},
   "outputs": [],
   "source": [
    "IT_gp3 = IT.loc[IT['peerEsgScorePerformance_max'] == 34.05].iloc[:,3:7]\n",
    "IT_gp3['E*S*G'] = IT_gp3['socialScore'] + IT_gp3['governanceScore'] +IT_gp3['environmentScore']\n",
    "IT_gp3 = pd.DataFrame(scaler.fit_transform(IT_gp3),columns = IT_gp3.columns,index = IT_gp3.index)\n",
    "IT_gp3 = IT_gp3[IT_gp3 < IT_gp3.quantile(.70)].dropna()\n",
    "IT_gp3_tick = IT_gp3.index.to_list()"
   ]
  },
  {
   "cell_type": "code",
   "execution_count": 26,
   "metadata": {},
   "outputs": [
    {
     "data": {
      "text/plain": [
       "['NVDA', 'INTC', 'TXN', 'AMAT', 'MU', 'LRCX', 'NXPI', 'KLAC', 'MRVL', 'TER']"
      ]
     },
     "execution_count": 26,
     "metadata": {},
     "output_type": "execute_result"
    }
   ],
   "source": [
    "IT_gp3_tick"
   ]
  },
  {
   "cell_type": "code",
   "execution_count": 27,
   "metadata": {},
   "outputs": [
    {
     "data": {
      "text/plain": [
       "['MSFT',\n",
       " 'PYPL',\n",
       " 'ADBE',\n",
       " 'CRM',\n",
       " 'ACN',\n",
       " 'ORCL',\n",
       " 'INTU',\n",
       " 'ADP',\n",
       " 'CDNS',\n",
       " 'PAYX',\n",
       " 'SNPS',\n",
       " 'ANSS',\n",
       " 'PANW',\n",
       " 'OTEX',\n",
       " 'BR',\n",
       " 'VMW',\n",
       " 'WU']"
      ]
     },
     "execution_count": 27,
     "metadata": {},
     "output_type": "execute_result"
    }
   ],
   "source": [
    "IT_gp4 = IT.loc[IT['peerEsgScorePerformance_max'] == 45.0].iloc[:,3:7]\n",
    "IT_gp4['E*S*G'] = IT_gp4['socialScore'] + IT_gp4['governanceScore'] +IT_gp4['environmentScore']\n",
    "IT_gp4 = pd.DataFrame(scaler.fit_transform(IT_gp4),columns = IT_gp4.columns,index = IT_gp4.index)\n",
    "IT_gp4 = IT_gp4[IT_gp4 < IT_gp4.quantile(.70)].dropna()\n",
    "IT_gp4_tick = IT_gp4.index.to_list()\n",
    "IT_gp4_tick"
   ]
  },
  {
   "cell_type": "markdown",
   "metadata": {},
   "source": [
    "Let's find out exactly how many stocks did we drop by using the best in class method in IT sector."
   ]
  },
  {
   "cell_type": "code",
   "execution_count": 29,
   "metadata": {},
   "outputs": [
    {
     "name": "stdout",
     "output_type": "stream",
     "text": [
      "In IT sector the number of companies dropped is  32\n"
     ]
    }
   ],
   "source": [
    "drop = len(IT)-(len(IT_gp1_tick)+len(IT_gp2_tick)+len(IT_gp3_tick)+len(IT_gp4_tick))\n",
    "print(\"In IT sector the number of companies dropped is \", drop)"
   ]
  },
  {
   "cell_type": "code",
   "execution_count": null,
   "metadata": {},
   "outputs": [],
   "source": []
  }
 ],
 "metadata": {
  "kernelspec": {
   "display_name": "Python 3",
   "language": "python",
   "name": "python3"
  },
  "language_info": {
   "codemirror_mode": {
    "name": "ipython",
    "version": 3
   },
   "file_extension": ".py",
   "mimetype": "text/x-python",
   "name": "python",
   "nbconvert_exporter": "python",
   "pygments_lexer": "ipython3",
   "version": "3.8.5"
  },
  "toc": {
   "base_numbering": 1,
   "nav_menu": {},
   "number_sections": true,
   "sideBar": true,
   "skip_h1_title": false,
   "title_cell": "Table of Contents",
   "title_sidebar": "Contents",
   "toc_cell": false,
   "toc_position": {},
   "toc_section_display": true,
   "toc_window_display": false
  }
 },
 "nbformat": 4,
 "nbformat_minor": 4
}
